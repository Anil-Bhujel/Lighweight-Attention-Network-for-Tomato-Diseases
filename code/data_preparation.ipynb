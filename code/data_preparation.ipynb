{
 "cells": [
  {
   "cell_type": "code",
   "execution_count": 8,
   "id": "blessed-remove",
   "metadata": {},
   "outputs": [],
   "source": [
    "import os\n",
    "import splitfolders\n"
   ]
  },
  {
   "cell_type": "code",
   "execution_count": 24,
   "id": "clear-testing",
   "metadata": {},
   "outputs": [],
   "source": [
    "# file renaming\n",
    "folder_dir = 'D:/Anil/Dataset/tomato/all/'\n",
    "for f in os.listdir(folder_dir):\n",
    "    i = 0\n",
    "    folder_path = folder_dir+f\n",
    "    for fname in os.listdir(folder_path):\n",
    "        filename = f+'.'+str(i)+'.jpg'\n",
    "        src = folder_path+'/'+fname\n",
    "        dest = folder_path+'/'+filename\n",
    "        os.rename(src,dest)\n",
    "        i += 1"
   ]
  },
  {
   "cell_type": "code",
   "execution_count": null,
   "id": "failing-piece",
   "metadata": {},
   "outputs": [],
   "source": []
  },
  {
   "cell_type": "code",
   "execution_count": 25,
   "id": "embedded-norway",
   "metadata": {},
   "outputs": [
    {
     "name": "stderr",
     "output_type": "stream",
     "text": [
      "Copying files: 18952 files [00:15, 1223.12 files/s]\n"
     ]
    }
   ],
   "source": [
    "# Split with a ratio.\n",
    "# To only split into training and validation set, set a tuple to `ratio`, i.e, `(.8, .2)`.\n",
    "splitfolders.ratio('D:/Anil/Dataset/tomato/all', output=\"D:/Anil/Dataset/tomato/\", seed=1337, ratio=(.8, .1, .1)) # default values\n",
    "\n",
    "# Split val/test with a fixed number of items e.g. 100 for each set.\n",
    "# To only split into training and validation set, use a single number to `fixed`, i.e., `10`.\n",
    "# splitfolders.fixed('input_folder', output=\"output\", seed=1337, fixed=(100, 100), oversample=False) # default values"
   ]
  },
  {
   "cell_type": "code",
   "execution_count": null,
   "id": "included-civilian",
   "metadata": {},
   "outputs": [],
   "source": []
  }
 ],
 "metadata": {
  "kernelspec": {
   "display_name": "Python 3",
   "language": "python",
   "name": "python3"
  },
  "language_info": {
   "codemirror_mode": {
    "name": "ipython",
    "version": 3
   },
   "file_extension": ".py",
   "mimetype": "text/x-python",
   "name": "python",
   "nbconvert_exporter": "python",
   "pygments_lexer": "ipython3",
   "version": "3.7.10"
  }
 },
 "nbformat": 4,
 "nbformat_minor": 5
}
